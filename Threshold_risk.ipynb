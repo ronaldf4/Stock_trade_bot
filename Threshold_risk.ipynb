{
  "nbformat": 4,
  "nbformat_minor": 0,
  "metadata": {
    "kernelspec": {
      "display_name": "Python 3",
      "language": "python",
      "name": "python3"
    },
    "language_info": {
      "codemirror_mode": {
        "name": "ipython",
        "version": 3
      },
      "file_extension": ".py",
      "mimetype": "text/x-python",
      "name": "python",
      "nbconvert_exporter": "python",
      "pygments_lexer": "ipython3",
      "version": "3.6.5"
    },
    "colab": {
      "name": "Threshold_risk.ipynb",
      "provenance": [],
      "collapsed_sections": []
    }
  },
  "cells": [
    {
      "cell_type": "code",
      "metadata": {
        "id": "GMlSNjG-tlzg",
        "colab_type": "code",
        "outputId": "66adc16d-0810-452f-9f07-1e4d23494042",
        "colab": {
          "base_uri": "https://localhost:8080/",
          "height": 87
        }
      },
      "source": [
        "import time\n",
        "import copy\n",
        "import numpy as np\n",
        "import pandas as pd\n",
        "import torch\n",
        "import torch.nn as nn\n",
        "from torch.autograd import Variable\n",
        "import torch.optim as optim\n",
        "import torch.nn.functional as F\n",
        "# from plotly import tools\n",
        "# from plotly.graph_objs import *\n",
        "# from plotly.offline import init_notebook_mode, iplot, iplot_mpl\n",
        "from google.colab import drive\n",
        "import random\n",
        "import matplotlib.pyplot as plt\n",
        "import seaborn as sns\n",
        "\n",
        "#random.seed(30)\n",
        "# This will prompt for authorization.\n",
        "drive.mount('/content/drive')"
      ],
      "execution_count": 0,
      "outputs": [
        {
          "output_type": "stream",
          "text": [
            "Drive already mounted at /content/drive; to attempt to forcibly remount, call drive.mount(\"/content/drive\", force_remount=True).\n"
          ],
          "name": "stdout"
        },
        {
          "output_type": "stream",
          "text": [
            "/usr/local/lib/python3.6/dist-packages/statsmodels/tools/_testing.py:19: FutureWarning: pandas.util.testing is deprecated. Use the functions in the public API at pandas.testing instead.\n",
            "  import pandas.util.testing as tm\n"
          ],
          "name": "stderr"
        }
      ]
    },
    {
      "cell_type": "code",
      "metadata": {
        "id": "03R0QWMlNC41",
        "colab_type": "code",
        "outputId": "b01fcaef-1362-474c-f5ba-6a11627c3bba",
        "colab": {
          "base_uri": "https://localhost:8080/",
          "height": 622
        }
      },
      "source": [
        "#threshold = input()\n",
        "!ls '/content/drive/My Drive/'"
      ],
      "execution_count": 0,
      "outputs": [
        {
          "output_type": "stream",
          "text": [
            " 1.png\n",
            " 2.png\n",
            " 3.png\n",
            " 4.png\n",
            " BIA_660_final_report_24_4.ipynb\n",
            " Bonus1\n",
            " Bonus2\n",
            " Chase_mortgage_new.gsheet\n",
            "'Colab Notebooks'\n",
            " DL_final_project\n",
            "'DRAFT LIST of STUDENT POSTERS April 28 2019.gsheet'\n",
            "'DRAFT LIST of STUDENT POSTERS April 28 2019.xlsx'\n",
            " fake_news_only_body.csv\n",
            " fake_news_only_statement.csv\n",
            "'FE541 Project Proposal Group 6.docx'\n",
            "'FE541 Project Proposal Group 6.gdoc'\n",
            "'Getting started.pdf'\n",
            " HW3\n",
            " hw4_and_bonus\n",
            " IpullRank\n",
            " merged_data.csv\n",
            " ML_proj\n",
            " politifact_fake_statements.csv\n",
            " Project_Presentation_description.gdoc\n",
            " real_news_only_body.csv\n",
            " real_news_only_statements.csv\n",
            "'Ronald_Fernandes_Resume (1).pdf'\n",
            "'Ronald_Fernandes_Resume (2).pdf'\n",
            " Ronald_Fernandes_Resume.pdf\n",
            "'Ronald_Fernandes_Resume - Ronald Fernandes.pdf'\n",
            "'R test'\n",
            " Shalini_FE800\n",
            " test\n",
            " WebMining_Lecture_notes.zip\n",
            " X.npy\n",
            " Y.npy\n"
          ],
          "name": "stdout"
        }
      ]
    },
    {
      "cell_type": "code",
      "metadata": {
        "id": "amYiGxTYuM8L",
        "colab_type": "code",
        "outputId": "3e963526-e4ec-4d05-bcaf-8d1fe2e96952",
        "colab": {
          "base_uri": "https://localhost:8080/",
          "height": 225
        }
      },
      "source": [
        "data = pd.read_csv('/content/drive/My Drive/merged_data.csv')\n",
        "data = data.set_index('Date')\n",
        "data.head()"
      ],
      "execution_count": 0,
      "outputs": [
        {
          "output_type": "execute_result",
          "data": {
            "text/html": [
              "<div>\n",
              "<style scoped>\n",
              "    .dataframe tbody tr th:only-of-type {\n",
              "        vertical-align: middle;\n",
              "    }\n",
              "\n",
              "    .dataframe tbody tr th {\n",
              "        vertical-align: top;\n",
              "    }\n",
              "\n",
              "    .dataframe thead th {\n",
              "        text-align: right;\n",
              "    }\n",
              "</style>\n",
              "<table border=\"1\" class=\"dataframe\">\n",
              "  <thead>\n",
              "    <tr style=\"text-align: right;\">\n",
              "      <th></th>\n",
              "      <th>deb</th>\n",
              "      <th>exp</th>\n",
              "      <th>gdp</th>\n",
              "      <th>hou</th>\n",
              "      <th>iip</th>\n",
              "      <th>inf</th>\n",
              "      <th>int</th>\n",
              "      <th>oil</th>\n",
              "      <th>s&amp;p</th>\n",
              "      <th>une</th>\n",
              "      <th>dxy</th>\n",
              "      <th>historical</th>\n",
              "    </tr>\n",
              "    <tr>\n",
              "      <th>Date</th>\n",
              "      <th></th>\n",
              "      <th></th>\n",
              "      <th></th>\n",
              "      <th></th>\n",
              "      <th></th>\n",
              "      <th></th>\n",
              "      <th></th>\n",
              "      <th></th>\n",
              "      <th></th>\n",
              "      <th></th>\n",
              "      <th></th>\n",
              "      <th></th>\n",
              "    </tr>\n",
              "  </thead>\n",
              "  <tbody>\n",
              "    <tr>\n",
              "      <th>1/1/2006</th>\n",
              "      <td>8170.42</td>\n",
              "      <td>78746.0</td>\n",
              "      <td>2.6</td>\n",
              "      <td>0.6</td>\n",
              "      <td>0.62</td>\n",
              "      <td>3.4</td>\n",
              "      <td>4.25</td>\n",
              "      <td>61.04</td>\n",
              "      <td>1248.29</td>\n",
              "      <td>4.9</td>\n",
              "      <td>91.080002</td>\n",
              "      <td>16873.85235</td>\n",
              "    </tr>\n",
              "    <tr>\n",
              "      <th>1/2/2006</th>\n",
              "      <td>8170.42</td>\n",
              "      <td>78746.0</td>\n",
              "      <td>2.6</td>\n",
              "      <td>0.6</td>\n",
              "      <td>0.62</td>\n",
              "      <td>3.4</td>\n",
              "      <td>4.25</td>\n",
              "      <td>61.04</td>\n",
              "      <td>1248.29</td>\n",
              "      <td>4.9</td>\n",
              "      <td>91.080002</td>\n",
              "      <td>16873.85235</td>\n",
              "    </tr>\n",
              "    <tr>\n",
              "      <th>1/3/2006</th>\n",
              "      <td>8153.88</td>\n",
              "      <td>78746.0</td>\n",
              "      <td>2.6</td>\n",
              "      <td>0.6</td>\n",
              "      <td>0.62</td>\n",
              "      <td>3.4</td>\n",
              "      <td>4.25</td>\n",
              "      <td>63.14</td>\n",
              "      <td>1268.80</td>\n",
              "      <td>4.9</td>\n",
              "      <td>90.750000</td>\n",
              "      <td>17151.09779</td>\n",
              "    </tr>\n",
              "    <tr>\n",
              "      <th>1/4/2006</th>\n",
              "      <td>8165.86</td>\n",
              "      <td>78746.0</td>\n",
              "      <td>2.6</td>\n",
              "      <td>0.6</td>\n",
              "      <td>0.62</td>\n",
              "      <td>3.4</td>\n",
              "      <td>4.25</td>\n",
              "      <td>63.42</td>\n",
              "      <td>1273.46</td>\n",
              "      <td>4.9</td>\n",
              "      <td>89.730003</td>\n",
              "      <td>17214.08968</td>\n",
              "    </tr>\n",
              "    <tr>\n",
              "      <th>1/5/2006</th>\n",
              "      <td>8160.32</td>\n",
              "      <td>78746.0</td>\n",
              "      <td>2.6</td>\n",
              "      <td>0.6</td>\n",
              "      <td>0.62</td>\n",
              "      <td>3.4</td>\n",
              "      <td>4.25</td>\n",
              "      <td>62.79</td>\n",
              "      <td>1273.48</td>\n",
              "      <td>4.9</td>\n",
              "      <td>89.269997</td>\n",
              "      <td>17214.36003</td>\n",
              "    </tr>\n",
              "  </tbody>\n",
              "</table>\n",
              "</div>"
            ],
            "text/plain": [
              "              deb      exp  gdp  hou  ...      s&p  une        dxy   historical\n",
              "Date                                  ...                                      \n",
              "1/1/2006  8170.42  78746.0  2.6  0.6  ...  1248.29  4.9  91.080002  16873.85235\n",
              "1/2/2006  8170.42  78746.0  2.6  0.6  ...  1248.29  4.9  91.080002  16873.85235\n",
              "1/3/2006  8153.88  78746.0  2.6  0.6  ...  1268.80  4.9  90.750000  17151.09779\n",
              "1/4/2006  8165.86  78746.0  2.6  0.6  ...  1273.46  4.9  89.730003  17214.08968\n",
              "1/5/2006  8160.32  78746.0  2.6  0.6  ...  1273.48  4.9  89.269997  17214.36003\n",
              "\n",
              "[5 rows x 12 columns]"
            ]
          },
          "metadata": {
            "tags": []
          },
          "execution_count": 5
        }
      ]
    },
    {
      "cell_type": "code",
      "metadata": {
        "id": "Qc0NK34cNl8n",
        "colab_type": "code",
        "outputId": "91776c6f-cf9f-41a9-d874-d8c87bacef4b",
        "colab": {
          "base_uri": "https://localhost:8080/",
          "height": 284
        }
      },
      "source": [
        "data.describe()"
      ],
      "execution_count": 0,
      "outputs": [
        {
          "output_type": "execute_result",
          "data": {
            "text/html": [
              "<div>\n",
              "<style scoped>\n",
              "    .dataframe tbody tr th:only-of-type {\n",
              "        vertical-align: middle;\n",
              "    }\n",
              "\n",
              "    .dataframe tbody tr th {\n",
              "        vertical-align: top;\n",
              "    }\n",
              "\n",
              "    .dataframe thead th {\n",
              "        text-align: right;\n",
              "    }\n",
              "</style>\n",
              "<table border=\"1\" class=\"dataframe\">\n",
              "  <thead>\n",
              "    <tr style=\"text-align: right;\">\n",
              "      <th></th>\n",
              "      <th>deb</th>\n",
              "      <th>exp</th>\n",
              "      <th>gdp</th>\n",
              "      <th>hou</th>\n",
              "      <th>iip</th>\n",
              "      <th>inf</th>\n",
              "      <th>int</th>\n",
              "      <th>oil</th>\n",
              "      <th>s&amp;p</th>\n",
              "      <th>une</th>\n",
              "      <th>dxy</th>\n",
              "      <th>historical</th>\n",
              "    </tr>\n",
              "  </thead>\n",
              "  <tbody>\n",
              "    <tr>\n",
              "      <th>count</th>\n",
              "      <td>5113.000000</td>\n",
              "      <td>5113.000000</td>\n",
              "      <td>5113.000000</td>\n",
              "      <td>5113.000000</td>\n",
              "      <td>5113.000000</td>\n",
              "      <td>5113.000000</td>\n",
              "      <td>5113.000000</td>\n",
              "      <td>5113.000000</td>\n",
              "      <td>5113.000000</td>\n",
              "      <td>5113.000000</td>\n",
              "      <td>5113.000000</td>\n",
              "      <td>5113.000000</td>\n",
              "    </tr>\n",
              "    <tr>\n",
              "      <th>mean</th>\n",
              "      <td>15542.373278</td>\n",
              "      <td>118336.879261</td>\n",
              "      <td>1.789341</td>\n",
              "      <td>0.156679</td>\n",
              "      <td>0.058115</td>\n",
              "      <td>1.961275</td>\n",
              "      <td>1.403872</td>\n",
              "      <td>73.178723</td>\n",
              "      <td>1755.394324</td>\n",
              "      <td>6.185625</td>\n",
              "      <td>86.262518</td>\n",
              "      <td>23728.672534</td>\n",
              "    </tr>\n",
              "    <tr>\n",
              "      <th>std</th>\n",
              "      <td>4480.572454</td>\n",
              "      <td>19264.330864</td>\n",
              "      <td>2.309371</td>\n",
              "      <td>0.535591</td>\n",
              "      <td>0.700897</td>\n",
              "      <td>1.336611</td>\n",
              "      <td>1.664744</td>\n",
              "      <td>22.211364</td>\n",
              "      <td>607.314000</td>\n",
              "      <td>2.028167</td>\n",
              "      <td>8.222797</td>\n",
              "      <td>8209.411884</td>\n",
              "    </tr>\n",
              "    <tr>\n",
              "      <th>min</th>\n",
              "      <td>8153.880000</td>\n",
              "      <td>74208.000000</td>\n",
              "      <td>-8.400000</td>\n",
              "      <td>-1.800000</td>\n",
              "      <td>-4.340000</td>\n",
              "      <td>-2.100000</td>\n",
              "      <td>0.250000</td>\n",
              "      <td>26.210000</td>\n",
              "      <td>676.530000</td>\n",
              "      <td>3.500000</td>\n",
              "      <td>71.330002</td>\n",
              "      <td>9145.044283</td>\n",
              "    </tr>\n",
              "    <tr>\n",
              "      <th>25%</th>\n",
              "      <td>11490.990000</td>\n",
              "      <td>104826.000000</td>\n",
              "      <td>0.900000</td>\n",
              "      <td>-0.100000</td>\n",
              "      <td>-0.270000</td>\n",
              "      <td>1.200000</td>\n",
              "      <td>0.250000</td>\n",
              "      <td>54.500000</td>\n",
              "      <td>1288.220000</td>\n",
              "      <td>4.600000</td>\n",
              "      <td>79.889999</td>\n",
              "      <td>17413.609070</td>\n",
              "    </tr>\n",
              "    <tr>\n",
              "      <th>50%</th>\n",
              "      <td>16431.220000</td>\n",
              "      <td>124713.000000</td>\n",
              "      <td>2.200000</td>\n",
              "      <td>0.300000</td>\n",
              "      <td>0.120000</td>\n",
              "      <td>2.000000</td>\n",
              "      <td>0.500000</td>\n",
              "      <td>70.460000</td>\n",
              "      <td>1525.200000</td>\n",
              "      <td>5.400000</td>\n",
              "      <td>83.959999</td>\n",
              "      <td>20617.003740</td>\n",
              "    </tr>\n",
              "    <tr>\n",
              "      <th>75%</th>\n",
              "      <td>19316.930000</td>\n",
              "      <td>133491.000000</td>\n",
              "      <td>3.200000</td>\n",
              "      <td>0.500000</td>\n",
              "      <td>0.440000</td>\n",
              "      <td>2.700000</td>\n",
              "      <td>2.000000</td>\n",
              "      <td>92.690000</td>\n",
              "      <td>2124.290000</td>\n",
              "      <td>8.200000</td>\n",
              "      <td>94.849998</td>\n",
              "      <td>28715.247100</td>\n",
              "    </tr>\n",
              "    <tr>\n",
              "      <th>max</th>\n",
              "      <td>23201.380000</td>\n",
              "      <td>150429.000000</td>\n",
              "      <td>5.500000</td>\n",
              "      <td>1.000000</td>\n",
              "      <td>1.520000</td>\n",
              "      <td>5.600000</td>\n",
              "      <td>5.250000</td>\n",
              "      <td>145.290000</td>\n",
              "      <td>3240.020000</td>\n",
              "      <td>10.000000</td>\n",
              "      <td>103.260002</td>\n",
              "      <td>43797.209850</td>\n",
              "    </tr>\n",
              "  </tbody>\n",
              "</table>\n",
              "</div>"
            ],
            "text/plain": [
              "                deb            exp  ...          dxy    historical\n",
              "count   5113.000000    5113.000000  ...  5113.000000   5113.000000\n",
              "mean   15542.373278  118336.879261  ...    86.262518  23728.672534\n",
              "std     4480.572454   19264.330864  ...     8.222797   8209.411884\n",
              "min     8153.880000   74208.000000  ...    71.330002   9145.044283\n",
              "25%    11490.990000  104826.000000  ...    79.889999  17413.609070\n",
              "50%    16431.220000  124713.000000  ...    83.959999  20617.003740\n",
              "75%    19316.930000  133491.000000  ...    94.849998  28715.247100\n",
              "max    23201.380000  150429.000000  ...   103.260002  43797.209850\n",
              "\n",
              "[8 rows x 12 columns]"
            ]
          },
          "metadata": {
            "tags": []
          },
          "execution_count": 3
        }
      ]
    },
    {
      "cell_type": "code",
      "metadata": {
        "id": "JpJQwvvstlzs",
        "colab_type": "code",
        "colab": {}
      },
      "source": [
        "# data = pd.read_csv('./Data/Stocks/goog.us.txt')\n",
        "# data['Date'] = pd.to_datetime(data['Date'])\n",
        "# data = data.set_index('Date')\n",
        "# print(data.index.min(), data.index.max())\n",
        "# data.head()\n",
        "#data.iloc[1]['historical']"
      ],
      "execution_count": 0,
      "outputs": []
    },
    {
      "cell_type": "code",
      "metadata": {
        "id": "q4GZiR7Ltlzy",
        "colab_type": "code",
        "outputId": "1acfd3b2-85bc-4918-e53d-8bd08a339862",
        "colab": {
          "base_uri": "https://localhost:8080/",
          "height": 34
        }
      },
      "source": [
        "date_split = '1/1/2018'\n",
        "train = data[:date_split]\n",
        "test = data[date_split:]\n",
        "len(train),len(test)"
      ],
      "execution_count": 0,
      "outputs": [
        {
          "output_type": "execute_result",
          "data": {
            "text/plain": [
              "(4384, 730)"
            ]
          },
          "metadata": {
            "tags": []
          },
          "execution_count": 5
        }
      ]
    },
    {
      "cell_type": "code",
      "metadata": {
        "id": "grdox8ZHtlz2",
        "colab_type": "code",
        "colab": {}
      },
      "source": [
        "# def plot_train_test(train, test, date_split):\n",
        "    \n",
        "#     data = [\n",
        "#         Candlestick(x=train.index, open=train['Open'], high=train['High'], low=train['Low'], close=train['Close'], name='train'),\n",
        "#         Candlestick(x=test.index, open=test['Open'], high=test['High'], low=test['Low'], close=test['Close'], name='test')\n",
        "#     ]\n",
        "#     layout = {\n",
        "#          'shapes': [\n",
        "#              {'x0': date_split, 'x1': date_split, 'y0': 0, 'y1': 1, 'xref': 'x', 'yref': 'paper', 'line': {'color': 'rgb(0,0,0)', 'width': 1}}\n",
        "#          ],\n",
        "#         'annotations': [\n",
        "#             {'x': date_split, 'y': 1.0, 'xref': 'x', 'yref': 'paper', 'showarrow': False, 'xanchor': 'left', 'text': ' test data'},\n",
        "#             {'x': date_split, 'y': 1.0, 'xref': 'x', 'yref': 'paper', 'showarrow': False, 'xanchor': 'right', 'text': 'train data '}\n",
        "#         ]\n",
        "#     }\n",
        "#     figure = Figure(data=data, layout=layout)\n",
        "#     iplot(figure)"
      ],
      "execution_count": 0,
      "outputs": []
    },
    {
      "cell_type": "code",
      "metadata": {
        "id": "IpDQrHsbtlz8",
        "colab_type": "code",
        "colab": {}
      },
      "source": [
        "#plot_train_test(train, test, date_split)\n",
        "#[[0 for _ in range(10)] for i in range(90)]\n",
        "\n",
        "#[[1,2]] + [[3,4],[5,6]]"
      ],
      "execution_count": 0,
      "outputs": []
    },
    {
      "cell_type": "code",
      "metadata": {
        "id": "B0C7wC2Etl0C",
        "colab_type": "code",
        "colab": {}
      },
      "source": [
        "class Environment1:\n",
        "    \n",
        "    def __init__(self, data, history_t=90):\n",
        "        self.data = data\n",
        "        self.history_t = history_t\n",
        "        self.reset()\n",
        "        \n",
        "    def reset(self):\n",
        "        self.t = 0\n",
        "        self.done = False\n",
        "        self.profits = 0\n",
        "        self.positions = []\n",
        "        self.position_value = 0\n",
        "        self.history = [0 for _ in range(self.history_t)]\n",
        "        return [self.position_value] + self.history # obs\n",
        "    \n",
        "    def step(self, act):\n",
        "        reward = 0\n",
        "        \n",
        "        # act = 0: stay, 1: buy, 2: sell\n",
        "        if act == 1: # buy\n",
        "            self.positions.append(self.data.iloc[self.t, :]['s&p'])\n",
        "        elif act == 2: # sell\n",
        "            if len(self.positions) == 0:\n",
        "                reward = -1\n",
        "            else:\n",
        "                profits = 0\n",
        "                for p in self.positions:\n",
        "                    profits += (self.data.iloc[self.t, :]['s&p'] - p)\n",
        "                reward += profits\n",
        "                self.profits += profits\n",
        "                self.positions = []\n",
        "        \n",
        "        # set next time\n",
        "        self.t += 1\n",
        "        \n",
        "        self.position_value = 0\n",
        "        for p in self.positions:\n",
        "            self.position_value += (self.data.iloc[self.t, :]['s&p'] - p)\n",
        "        self.history.pop(0)\n",
        "        self.history.append(self.data.iloc[self.t, :]['s&p'] - self.data.iloc[(self.t-1), :]['s&p'])\n",
        "        if (self.t==len(self.data)-1):\n",
        "            self.done=True\n",
        "        # clipping reward\n",
        "        if reward > 0:\n",
        "            reward = 1\n",
        "        elif reward < 0:\n",
        "            reward = -1\n",
        "        #print (\"t={%d}, done={%str}\"%(self.t,self.done))\n",
        "        return [self.position_value] + self.history, reward, self.done # obs, reward, done\n",
        "    "
      ],
      "execution_count": 0,
      "outputs": []
    },
    {
      "cell_type": "code",
      "metadata": {
        "id": "y0VmI-vhtl0K",
        "colab_type": "code",
        "outputId": "00758f53-1964-4f13-fd04-a33de60ff136",
        "colab": {
          "base_uri": "https://localhost:8080/",
          "height": 154
        }
      },
      "source": [
        "env = Environment1(train)\n",
        "print(env.reset())\n",
        "for _ in range(3):\n",
        "    pact = np.random.randint(3)\n",
        "    print (pact)\n",
        "    print(env.step(pact))"
      ],
      "execution_count": 0,
      "outputs": [
        {
          "output_type": "stream",
          "text": [
            "[0, 0, 0, 0, 0, 0, 0, 0, 0, 0, 0, 0, 0, 0, 0, 0, 0, 0, 0, 0, 0, 0, 0, 0, 0, 0, 0, 0, 0, 0, 0, 0, 0, 0, 0, 0, 0, 0, 0, 0, 0, 0, 0, 0, 0, 0, 0, 0, 0, 0, 0, 0, 0, 0, 0, 0, 0, 0, 0, 0, 0, 0, 0, 0, 0, 0, 0, 0, 0, 0, 0, 0, 0, 0, 0, 0, 0, 0, 0, 0, 0, 0, 0, 0, 0, 0, 0, 0, 0, 0, 0]\n",
            "2\n",
            "([0, 0, 0, 0, 0, 0, 0, 0, 0, 0, 0, 0, 0, 0, 0, 0, 0, 0, 0, 0, 0, 0, 0, 0, 0, 0, 0, 0, 0, 0, 0, 0, 0, 0, 0, 0, 0, 0, 0, 0, 0, 0, 0, 0, 0, 0, 0, 0, 0, 0, 0, 0, 0, 0, 0, 0, 0, 0, 0, 0, 0, 0, 0, 0, 0, 0, 0, 0, 0, 0, 0, 0, 0, 0, 0, 0, 0, 0, 0, 0, 0, 0, 0, 0, 0, 0, 0, 0, 0, 0, 0.0], -1, False)\n",
            "2\n",
            "([0, 0, 0, 0, 0, 0, 0, 0, 0, 0, 0, 0, 0, 0, 0, 0, 0, 0, 0, 0, 0, 0, 0, 0, 0, 0, 0, 0, 0, 0, 0, 0, 0, 0, 0, 0, 0, 0, 0, 0, 0, 0, 0, 0, 0, 0, 0, 0, 0, 0, 0, 0, 0, 0, 0, 0, 0, 0, 0, 0, 0, 0, 0, 0, 0, 0, 0, 0, 0, 0, 0, 0, 0, 0, 0, 0, 0, 0, 0, 0, 0, 0, 0, 0, 0, 0, 0, 0, 0, 0.0, 20.50999999999999], -1, False)\n",
            "0\n",
            "([0, 0, 0, 0, 0, 0, 0, 0, 0, 0, 0, 0, 0, 0, 0, 0, 0, 0, 0, 0, 0, 0, 0, 0, 0, 0, 0, 0, 0, 0, 0, 0, 0, 0, 0, 0, 0, 0, 0, 0, 0, 0, 0, 0, 0, 0, 0, 0, 0, 0, 0, 0, 0, 0, 0, 0, 0, 0, 0, 0, 0, 0, 0, 0, 0, 0, 0, 0, 0, 0, 0, 0, 0, 0, 0, 0, 0, 0, 0, 0, 0, 0, 0, 0, 0, 0, 0, 0, 0.0, 20.50999999999999, 4.660000000000082], 0, False)\n"
          ],
          "name": "stdout"
        }
      ]
    },
    {
      "cell_type": "code",
      "metadata": {
        "id": "ya3yzKMmtl0O",
        "colab_type": "code",
        "colab": {}
      },
      "source": [
        "#def train_dqn(env):\n",
        "    \n",
        "class Q_Network(nn.Module):\n",
        "        \n",
        "  def __init__(self,obs_len,hidden_size,actions_n):\n",
        "            \n",
        "        super(Q_Network,self).__init__()\n",
        "            \n",
        "        self.fc_val = nn.Sequential(\n",
        "            nn.Linear(obs_len, hidden_size),\n",
        "            nn.ReLU(),\n",
        "            nn.Linear(hidden_size, hidden_size),\n",
        "            nn.ReLU(),\n",
        "            nn.Linear(hidden_size, actions_n)\n",
        "        )\n",
        "        \n",
        "        \n",
        "  def forward(self,x):\n",
        "        h =  self.fc_val(x)\n",
        "        return (h)\n",
        "            "
      ],
      "execution_count": 0,
      "outputs": []
    },
    {
      "cell_type": "code",
      "metadata": {
        "id": "04pv9ma4tl0R",
        "colab_type": "code",
        "colab": {}
      },
      "source": [
        "hidden_size=100\n",
        "input_size=env.history_t+1\n",
        "output_size=3\n",
        "USE_CUDA = False \n",
        "LR = 0.001"
      ],
      "execution_count": 0,
      "outputs": []
    },
    {
      "cell_type": "code",
      "metadata": {
        "id": "Pz6EliS_tl0W",
        "colab_type": "code",
        "colab": {}
      },
      "source": [
        "Q = Q_Network(input_size, hidden_size, output_size)"
      ],
      "execution_count": 0,
      "outputs": []
    },
    {
      "cell_type": "code",
      "metadata": {
        "id": "CMQdM6qGtl0f",
        "colab_type": "code",
        "colab": {}
      },
      "source": [
        "Q_ast = copy.deepcopy(Q)"
      ],
      "execution_count": 0,
      "outputs": []
    },
    {
      "cell_type": "code",
      "metadata": {
        "id": "T4x9MUvutl0k",
        "colab_type": "code",
        "colab": {}
      },
      "source": [
        "if USE_CUDA:\n",
        "    Q = Q.cuda()\n",
        "loss_function = nn.MSELoss()\n",
        "optimizer = optim.Adam(list(Q.parameters()), lr=LR)"
      ],
      "execution_count": 0,
      "outputs": []
    },
    {
      "cell_type": "code",
      "metadata": {
        "id": "CxdBluNWtl0r",
        "colab_type": "code",
        "colab": {}
      },
      "source": [
        "epoch_num = 20\n",
        "step_max = len(env.data)-1\n",
        "memory_size = 200\n",
        "batch_size = 50\n",
        "gamma = 0.97"
      ],
      "execution_count": 0,
      "outputs": []
    },
    {
      "cell_type": "code",
      "metadata": {
        "id": "fZqhGsn8tl0w",
        "colab_type": "code",
        "colab": {}
      },
      "source": [
        "obs, reward, done = env.step(5)"
      ],
      "execution_count": 0,
      "outputs": []
    },
    {
      "cell_type": "code",
      "metadata": {
        "id": "mnCL_sZ2tl01",
        "colab_type": "code",
        "colab": {}
      },
      "source": [
        "memory = []\n",
        "total_step = 0\n",
        "total_rewards = []\n",
        "total_losses = []\n",
        "epsilon = 1.0\n",
        "epsilon_decrease = 1e-3\n",
        "epsilon_min = 0.1\n",
        "start_reduce_epsilon = 200\n",
        "train_freq = 10\n",
        "update_q_freq = 20\n",
        "gamma = 0.97\n",
        "show_log_freq = 5"
      ],
      "execution_count": 0,
      "outputs": []
    },
    {
      "cell_type": "code",
      "metadata": {
        "id": "iMBAjojZn1Kt",
        "colab_type": "code",
        "colab": {}
      },
      "source": [
        "#Q(torch.from_numpy(np.array(pobs, dtype=np.float32)))"
      ],
      "execution_count": 0,
      "outputs": []
    },
    {
      "cell_type": "code",
      "metadata": {
        "id": "bXS556B6tl09",
        "colab_type": "code",
        "colab": {}
      },
      "source": [
        "thresholds_list = [5000,10000,20000,25000,40000,45000]\n",
        "profits_list = []\n",
        "for thresh in thresholds_list:\n",
        "  start = time.time()\n",
        "  threshold = thresh\n",
        "  for epoch in range(epoch_num):\n",
        "\n",
        "      pobs = env.reset()\n",
        "      step = 0\n",
        "      done = False\n",
        "      total_reward = 0\n",
        "      total_loss = 0\n",
        "      count = 0\n",
        "      i = 0\n",
        "      while not done and step < step_max:\n",
        "\n",
        "          # select act\n",
        "          \n",
        "          pact = np.random.randint(3)\n",
        "          if np.random.rand() > epsilon:\n",
        "              pact = Q(torch.from_numpy(np.array(pobs, dtype=np.float32)))\n",
        "              #print(pact)\n",
        "              if(data.iloc[i]['historical'] <= threshold):\n",
        "                pact = np.argmax(pact.data)\n",
        "                #print(pact)\n",
        "                pact = pact.numpy()\n",
        "                #print(pact)\n",
        "              else:\n",
        "                pact = 0\n",
        "              # count = count + 1\n",
        "              # print(count)\n",
        "\n",
        "\n",
        "          # act\n",
        "          obs, reward, done = env.step(pact)\n",
        "\n",
        "          # add memory\n",
        "          memory.append((pobs, pact, reward, obs, done))\n",
        "          if len(memory) > memory_size:\n",
        "              memory.pop(0)\n",
        "\n",
        "          # train or update q\n",
        "          if len(memory) == memory_size:\n",
        "              if total_step % train_freq == 0:\n",
        "                  shuffled_memory = np.random.permutation(memory)\n",
        "                  memory_idx = range(len(shuffled_memory))\n",
        "                  for i in memory_idx[::batch_size]:\n",
        "                      batch = np.array(shuffled_memory[i:i+batch_size])\n",
        "                      b_pobs = np.array(batch[:, 0].tolist(), dtype=np.float32).reshape(batch_size, -1)\n",
        "                      b_pact = np.array(batch[:, 1].tolist(), dtype=np.int32)\n",
        "                      b_reward = np.array(batch[:, 2].tolist(), dtype=np.int32)\n",
        "                      b_obs = np.array(batch[:, 3].tolist(), dtype=np.float32).reshape(batch_size, -1)\n",
        "                      b_done = np.array(batch[:, 4].tolist(), dtype=np.bool)\n",
        "\n",
        "                      q = Q(torch.from_numpy(b_pobs))\n",
        "                      q_ = Q_ast(torch.from_numpy(b_obs))\n",
        "                      maxq = np.max(q_.data.numpy(),axis=1)\n",
        "                      target = copy.deepcopy(q.data)\n",
        "                      for j in range(batch_size):\n",
        "                          target[j, b_pact[j]] = b_reward[j]+gamma*maxq[j]*(not b_done[j])\n",
        "                      Q.zero_grad()\n",
        "                      loss = loss_function(q, target)\n",
        "                      total_loss += loss.data.item()\n",
        "                      loss.backward()\n",
        "                      optimizer.step()\n",
        "                      \n",
        "              if total_step % update_q_freq == 0:\n",
        "                  Q_ast = copy.deepcopy(Q)\n",
        "                  \n",
        "              # epsilon\n",
        "              if epsilon > epsilon_min and total_step > start_reduce_epsilon:\n",
        "                  epsilon -= epsilon_decrease\n",
        "\n",
        "              # next step\n",
        "              total_reward += reward\n",
        "              pobs = obs\n",
        "              step += 1\n",
        "              total_step += 1\n",
        "\n",
        "          total_rewards.append(total_reward)\n",
        "          total_losses.append(total_loss)\n",
        "\n",
        "          if (epoch+1) % show_log_freq == 0:\n",
        "              log_reward = sum(total_rewards[((epoch+1)-show_log_freq):])/show_log_freq\n",
        "              log_loss = sum(total_losses[((epoch+1)-show_log_freq):])/show_log_freq\n",
        "              elapsed_time = time.time()-start\n",
        "              #print('\\t'.join(map(str, [epoch+1, epsilon, total_step, log_reward, log_loss, elapsed_time])))\n",
        "              start = time.time()\n",
        "          i = i + 1    \n",
        "  #return Q, total_losses, total_rewards\n",
        "  test_env = Environment1(test)\n",
        "  pobs = test_env.reset()\n",
        "  test_acts = []\n",
        "  test_rewards = []\n",
        "\n",
        "  for _ in range(len(test_env.data)-1):\n",
        "      \n",
        "      pact = Q(torch.from_numpy(np.array(pobs, dtype=np.float32).reshape(1, -1)))\n",
        "      pact = np.argmax(pact.data)\n",
        "      test_acts.append(pact.item())\n",
        "              \n",
        "      obs, reward, done = test_env.step(pact.numpy())\n",
        "      test_rewards.append(reward)\n",
        "\n",
        "      pobs = obs\n",
        "          \n",
        "  test_profits = test_env.profits\n",
        "  profits_list.append(test_profits)"
      ],
      "execution_count": 0,
      "outputs": []
    },
    {
      "cell_type": "code",
      "metadata": {
        "id": "IL3yc53dtl1B",
        "colab_type": "code",
        "colab": {}
      },
      "source": [
        "# test_env = Environment1(test)\n",
        "# pobs = test_env.reset()\n",
        "# test_acts = []\n",
        "# test_rewards = []\n",
        "\n",
        "# for _ in range(len(test_env.data)-1):\n",
        "    \n",
        "#     pact = Q(torch.from_numpy(np.array(pobs, dtype=np.float32).reshape(1, -1)))\n",
        "#     pact = np.argmax(pact.data)\n",
        "#     test_acts.append(pact.item())\n",
        "            \n",
        "#     obs, reward, done = test_env.step(pact.numpy())\n",
        "#     test_rewards.append(reward)\n",
        "\n",
        "#     pobs = obs\n",
        "        \n",
        "# test_profits = test_env.profits"
      ],
      "execution_count": 0,
      "outputs": []
    },
    {
      "cell_type": "code",
      "metadata": {
        "id": "8H6vEWYntl1E",
        "colab_type": "code",
        "colab": {}
      },
      "source": [
        "#test_profits\n",
        "print(thresholds_list)\n",
        "print(profits_list)\n",
        "#thresholds_list"
      ],
      "execution_count": 0,
      "outputs": []
    },
    {
      "cell_type": "code",
      "metadata": {
        "id": "bBl63jQDtl1H",
        "colab_type": "code",
        "colab": {}
      },
      "source": [
        "tl = [5000,10000,20000,25000,40000,45000]\n",
        "pl = [1431.41,-1699.26,465.82,981.75,105.74,839.04]\n",
        "plt.figure(figsize=(10,5))\n",
        "#plt.xticks(np.arange(6),tl)\n",
        "sns.barplot(tl,pl,palette=['Green','Red','Green','Green','Green','Green'])\n",
        "plt.xlabel('Threshold')\n",
        "plt.ylabel('Profit')\n",
        "plt.show()\n",
        "\n"
      ],
      "execution_count": 0,
      "outputs": []
    },
    {
      "cell_type": "code",
      "metadata": {
        "id": "r8pHC-UM0qj-",
        "colab_type": "code",
        "colab": {}
      },
      "source": [
        "print(pd.DataFrame({'Threshold':thresholds_list,'Profits':profits_list}))"
      ],
      "execution_count": 0,
      "outputs": []
    },
    {
      "cell_type": "code",
      "metadata": {
        "id": "irQ97GfhTIsY",
        "colab_type": "code",
        "colab": {}
      },
      "source": [
        "# class Environment:\n",
        "#   def __init__(self,data,history_t = 90):\n",
        "#     #Initializes the class variable\n",
        "  \n",
        "#   def reset(self):\n",
        "#     #Resets the environment\n",
        "  \n",
        "#   def step(self,act)\n",
        "#     #For every step checks what action was taken\n",
        "#     #Calculates Profits based on the actions\n",
        "#     #Calculates rewards based on the profits\n",
        "\n",
        "# class Q_Network(nn.Module):   \n",
        "#   def __init__(self,obs_len,hidden_size,actions_n):\n",
        "#         #Initializes the class variables\n",
        "#         super(Q_Network,self).__init__()\n",
        "#         #Initializes the neural Network Module \n",
        "\n",
        "# #Training\n",
        "# for every Epoch:\n",
        "#   #Train and get action for every row\n",
        "#   #Calculate the reward for every step\n",
        "#   #Calculate maximum reward for all possible states of next action\n",
        "#   #Update model of q network for passing the values\n",
        "\n",
        "# #Testing\n",
        "#   #Test for every value what action should be taken\n",
        "#   #Calculate total profits\n"
      ],
      "execution_count": 0,
      "outputs": []
    }
  ]
}