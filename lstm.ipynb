{
  "nbformat": 4,
  "nbformat_minor": 0,
  "metadata": {
    "colab": {
      "name": "lstm.ipynb",
      "provenance": [],
      "collapsed_sections": []
    },
    "kernelspec": {
      "name": "python3",
      "display_name": "Python 3"
    }
  },
  "cells": [
    {
      "cell_type": "code",
      "metadata": {
        "id": "qd99fGDGPwI4",
        "colab_type": "code",
        "outputId": "9d48c51d-0584-4d80-8b6f-4cd4218f9ade",
        "colab": {
          "base_uri": "https://localhost:8080/",
          "height": 50
        }
      },
      "source": [
        "import pandas as pd\n",
        "import numpy as np\n",
        "import matplotlib.pyplot as plt\n",
        "import math\n",
        "import os\n",
        "import glob\n",
        "from keras.models import Sequential\n",
        "from keras.layers import Dense, LeakyReLU\n",
        "from keras.layers import LSTM, CuDNNLSTM\n",
        "from sklearn.metrics import mean_squared_error\n",
        "from google.colab import drive\n",
        "import random\n",
        "#random.seed(30)\n",
        "# This will prompt for authorization.\n",
        "drive.mount('/content/drive')"
      ],
      "execution_count": 0,
      "outputs": [
        {
          "output_type": "stream",
          "text": [
            "Using TensorFlow backend.\n"
          ],
          "name": "stderr"
        },
        {
          "output_type": "stream",
          "text": [
            "Drive already mounted at /content/drive; to attempt to forcibly remount, call drive.mount(\"/content/drive\", force_remount=True).\n"
          ],
          "name": "stdout"
        }
      ]
    },
    {
      "cell_type": "code",
      "metadata": {
        "id": "xr-DlEgKt7NB",
        "colab_type": "code",
        "colab": {}
      },
      "source": [
        ""
      ],
      "execution_count": 0,
      "outputs": []
    },
    {
      "cell_type": "code",
      "metadata": {
        "id": "Jc7ILLBJQA_i",
        "colab_type": "code",
        "outputId": "5cfe32e4-2f20-4f9e-80c8-9e2a2b30894d",
        "colab": {
          "base_uri": "https://localhost:8080/",
          "height": 402
        }
      },
      "source": [
        "df = pd.read_csv('/content/drive/My Drive/Shalini_FE800/merged_data/merged_data.csv')\n",
        "#df = df.sort_values(by = 'Date').reset_index(drop=True)\n",
        "df"
      ],
      "execution_count": 0,
      "outputs": [
        {
          "output_type": "execute_result",
          "data": {
            "text/html": [
              "<div>\n",
              "<style scoped>\n",
              "    .dataframe tbody tr th:only-of-type {\n",
              "        vertical-align: middle;\n",
              "    }\n",
              "\n",
              "    .dataframe tbody tr th {\n",
              "        vertical-align: top;\n",
              "    }\n",
              "\n",
              "    .dataframe thead th {\n",
              "        text-align: right;\n",
              "    }\n",
              "</style>\n",
              "<table border=\"1\" class=\"dataframe\">\n",
              "  <thead>\n",
              "    <tr style=\"text-align: right;\">\n",
              "      <th></th>\n",
              "      <th>Date</th>\n",
              "      <th>deb</th>\n",
              "      <th>exp</th>\n",
              "      <th>gdp</th>\n",
              "      <th>hou</th>\n",
              "      <th>iip</th>\n",
              "      <th>inf</th>\n",
              "      <th>int</th>\n",
              "      <th>oil</th>\n",
              "      <th>s&amp;p</th>\n",
              "      <th>une</th>\n",
              "      <th>dxy</th>\n",
              "      <th>historical_var</th>\n",
              "    </tr>\n",
              "  </thead>\n",
              "  <tbody>\n",
              "    <tr>\n",
              "      <th>0</th>\n",
              "      <td>1/1/2006</td>\n",
              "      <td>8170.42</td>\n",
              "      <td>78746.0</td>\n",
              "      <td>2.6</td>\n",
              "      <td>0.6</td>\n",
              "      <td>0.62</td>\n",
              "      <td>3.4</td>\n",
              "      <td>4.25</td>\n",
              "      <td>61.04</td>\n",
              "      <td>1248.29</td>\n",
              "      <td>4.9</td>\n",
              "      <td>91.080002</td>\n",
              "      <td>16873.85235</td>\n",
              "    </tr>\n",
              "    <tr>\n",
              "      <th>1</th>\n",
              "      <td>1/2/2006</td>\n",
              "      <td>8170.42</td>\n",
              "      <td>78746.0</td>\n",
              "      <td>2.6</td>\n",
              "      <td>0.6</td>\n",
              "      <td>0.62</td>\n",
              "      <td>3.4</td>\n",
              "      <td>4.25</td>\n",
              "      <td>61.04</td>\n",
              "      <td>1248.29</td>\n",
              "      <td>4.9</td>\n",
              "      <td>91.080002</td>\n",
              "      <td>16873.85235</td>\n",
              "    </tr>\n",
              "    <tr>\n",
              "      <th>2</th>\n",
              "      <td>1/3/2006</td>\n",
              "      <td>8153.88</td>\n",
              "      <td>78746.0</td>\n",
              "      <td>2.6</td>\n",
              "      <td>0.6</td>\n",
              "      <td>0.62</td>\n",
              "      <td>3.4</td>\n",
              "      <td>4.25</td>\n",
              "      <td>63.14</td>\n",
              "      <td>1268.80</td>\n",
              "      <td>4.9</td>\n",
              "      <td>90.750000</td>\n",
              "      <td>17151.09779</td>\n",
              "    </tr>\n",
              "    <tr>\n",
              "      <th>3</th>\n",
              "      <td>1/4/2006</td>\n",
              "      <td>8165.86</td>\n",
              "      <td>78746.0</td>\n",
              "      <td>2.6</td>\n",
              "      <td>0.6</td>\n",
              "      <td>0.62</td>\n",
              "      <td>3.4</td>\n",
              "      <td>4.25</td>\n",
              "      <td>63.42</td>\n",
              "      <td>1273.46</td>\n",
              "      <td>4.9</td>\n",
              "      <td>89.730003</td>\n",
              "      <td>17214.08968</td>\n",
              "    </tr>\n",
              "    <tr>\n",
              "      <th>4</th>\n",
              "      <td>1/5/2006</td>\n",
              "      <td>8160.32</td>\n",
              "      <td>78746.0</td>\n",
              "      <td>2.6</td>\n",
              "      <td>0.6</td>\n",
              "      <td>0.62</td>\n",
              "      <td>3.4</td>\n",
              "      <td>4.25</td>\n",
              "      <td>62.79</td>\n",
              "      <td>1273.48</td>\n",
              "      <td>4.9</td>\n",
              "      <td>89.269997</td>\n",
              "      <td>17214.36003</td>\n",
              "    </tr>\n",
              "    <tr>\n",
              "      <th>...</th>\n",
              "      <td>...</td>\n",
              "      <td>...</td>\n",
              "      <td>...</td>\n",
              "      <td>...</td>\n",
              "      <td>...</td>\n",
              "      <td>...</td>\n",
              "      <td>...</td>\n",
              "      <td>...</td>\n",
              "      <td>...</td>\n",
              "      <td>...</td>\n",
              "      <td>...</td>\n",
              "      <td>...</td>\n",
              "      <td>...</td>\n",
              "    </tr>\n",
              "    <tr>\n",
              "      <th>5108</th>\n",
              "      <td>12/27/2019</td>\n",
              "      <td>23107.77</td>\n",
              "      <td>137703.0</td>\n",
              "      <td>2.1</td>\n",
              "      <td>0.2</td>\n",
              "      <td>0.88</td>\n",
              "      <td>2.1</td>\n",
              "      <td>1.75</td>\n",
              "      <td>61.72</td>\n",
              "      <td>3240.02</td>\n",
              "      <td>3.5</td>\n",
              "      <td>97.540001</td>\n",
              "      <td>43797.20985</td>\n",
              "    </tr>\n",
              "    <tr>\n",
              "      <th>5109</th>\n",
              "      <td>12/28/2019</td>\n",
              "      <td>23107.77</td>\n",
              "      <td>137703.0</td>\n",
              "      <td>2.1</td>\n",
              "      <td>0.2</td>\n",
              "      <td>0.88</td>\n",
              "      <td>2.1</td>\n",
              "      <td>1.75</td>\n",
              "      <td>61.72</td>\n",
              "      <td>3240.02</td>\n",
              "      <td>3.5</td>\n",
              "      <td>97.540001</td>\n",
              "      <td>43797.20985</td>\n",
              "    </tr>\n",
              "    <tr>\n",
              "      <th>5110</th>\n",
              "      <td>12/29/2019</td>\n",
              "      <td>23107.77</td>\n",
              "      <td>137703.0</td>\n",
              "      <td>2.1</td>\n",
              "      <td>0.2</td>\n",
              "      <td>0.88</td>\n",
              "      <td>2.1</td>\n",
              "      <td>1.75</td>\n",
              "      <td>61.72</td>\n",
              "      <td>3240.02</td>\n",
              "      <td>3.5</td>\n",
              "      <td>97.540001</td>\n",
              "      <td>43797.20985</td>\n",
              "    </tr>\n",
              "    <tr>\n",
              "      <th>5111</th>\n",
              "      <td>12/30/2019</td>\n",
              "      <td>23108.83</td>\n",
              "      <td>137703.0</td>\n",
              "      <td>2.1</td>\n",
              "      <td>0.2</td>\n",
              "      <td>0.88</td>\n",
              "      <td>2.1</td>\n",
              "      <td>1.75</td>\n",
              "      <td>61.68</td>\n",
              "      <td>3221.29</td>\n",
              "      <td>3.5</td>\n",
              "      <td>97.000000</td>\n",
              "      <td>43544.02569</td>\n",
              "    </tr>\n",
              "    <tr>\n",
              "      <th>5112</th>\n",
              "      <td>12/31/2019</td>\n",
              "      <td>23201.38</td>\n",
              "      <td>136435.0</td>\n",
              "      <td>2.1</td>\n",
              "      <td>0.2</td>\n",
              "      <td>-0.39</td>\n",
              "      <td>2.1</td>\n",
              "      <td>1.75</td>\n",
              "      <td>61.06</td>\n",
              "      <td>3230.78</td>\n",
              "      <td>3.5</td>\n",
              "      <td>96.730003</td>\n",
              "      <td>43672.30746</td>\n",
              "    </tr>\n",
              "  </tbody>\n",
              "</table>\n",
              "<p>5113 rows × 13 columns</p>\n",
              "</div>"
            ],
            "text/plain": [
              "            Date       deb       exp  ...  une        dxy  historical_var\n",
              "0       1/1/2006   8170.42   78746.0  ...  4.9  91.080002     16873.85235\n",
              "1       1/2/2006   8170.42   78746.0  ...  4.9  91.080002     16873.85235\n",
              "2       1/3/2006   8153.88   78746.0  ...  4.9  90.750000     17151.09779\n",
              "3       1/4/2006   8165.86   78746.0  ...  4.9  89.730003     17214.08968\n",
              "4       1/5/2006   8160.32   78746.0  ...  4.9  89.269997     17214.36003\n",
              "...          ...       ...       ...  ...  ...        ...             ...\n",
              "5108  12/27/2019  23107.77  137703.0  ...  3.5  97.540001     43797.20985\n",
              "5109  12/28/2019  23107.77  137703.0  ...  3.5  97.540001     43797.20985\n",
              "5110  12/29/2019  23107.77  137703.0  ...  3.5  97.540001     43797.20985\n",
              "5111  12/30/2019  23108.83  137703.0  ...  3.5  97.000000     43544.02569\n",
              "5112  12/31/2019  23201.38  136435.0  ...  3.5  96.730003     43672.30746\n",
              "\n",
              "[5113 rows x 13 columns]"
            ]
          },
          "metadata": {
            "tags": []
          },
          "execution_count": 2
        }
      ]
    },
    {
      "cell_type": "code",
      "metadata": {
        "id": "IsEctGcbQeNM",
        "colab_type": "code",
        "colab": {}
      },
      "source": [
        "X = df.drop(['s&p','Date'],axis = 1)\n",
        "y = df['s&p']"
      ],
      "execution_count": 0,
      "outputs": []
    },
    {
      "cell_type": "code",
      "metadata": {
        "id": "7BS5D4JL_tLG",
        "colab_type": "code",
        "colab": {}
      },
      "source": [
        "X_train = X.iloc[0:4800]\n",
        "X_test = X.iloc[4800:]\n",
        "y_train = np.array(y.iloc[0:4800]).reshape(-1,1)\n",
        "y_test = np.array(y.iloc[4800:]).reshape(-1,1)"
      ],
      "execution_count": 0,
      "outputs": []
    },
    {
      "cell_type": "code",
      "metadata": {
        "id": "rRVTzpG2Qk_H",
        "colab_type": "code",
        "colab": {}
      },
      "source": [
        "# from sklearn.model_selection import train_test_split\n",
        "# X_train, X_test, y_train, y_test = train_test_split(X, y, test_size=0.2, random_state=0)\n",
        "\n",
        "from sklearn.preprocessing import MinMaxScaler\n",
        "sc = MinMaxScaler()\n",
        "scx = sc.fit(X_train)\n",
        "X_train = scx.transform(X_train)\n",
        "X_test = scx.transform(X_test)\n",
        "\n",
        "#print(y)\n",
        "scy = sc.fit(y_train)\n",
        "y_train = scy.transform(y_train)\n",
        "y_test = scy.transform(y_test)\n",
        "#y = (y - min(y))/(max(y) - min(y))\n",
        "\n",
        "\n"
      ],
      "execution_count": 0,
      "outputs": []
    },
    {
      "cell_type": "code",
      "metadata": {
        "id": "U5F2GutftkoK",
        "colab_type": "code",
        "colab": {}
      },
      "source": [
        "#X_train[0:60]"
      ],
      "execution_count": 0,
      "outputs": []
    },
    {
      "cell_type": "code",
      "metadata": {
        "id": "qCml1AjzodBl",
        "colab_type": "code",
        "colab": {}
      },
      "source": [
        "window = 30\n",
        "def create_window(data,window_size=90):\n",
        "  windowed_data = []\n",
        "  for i in range(data.shape[0]):\n",
        "    end_idx = i + window_size\n",
        "    if end_idx > data.shape[0]:\n",
        "      break\n",
        "    windowed_data.append(data[i:end_idx])\n",
        "\n",
        "  return np.array(windowed_data)\n",
        "\n",
        "X_train_new = create_window(X_train,window)\n",
        "X_test_new = create_window(X_test,window)\n",
        "\n"
      ],
      "execution_count": 0,
      "outputs": []
    },
    {
      "cell_type": "code",
      "metadata": {
        "id": "KESF4myr8xzd",
        "colab_type": "code",
        "outputId": "d50e3fc3-7c36-4dc8-e98b-b9823fea1f2d",
        "colab": {
          "base_uri": "https://localhost:8080/",
          "height": 34
        }
      },
      "source": [
        "X_train_new.shape"
      ],
      "execution_count": 0,
      "outputs": [
        {
          "output_type": "execute_result",
          "data": {
            "text/plain": [
              "(4771, 30, 11)"
            ]
          },
          "metadata": {
            "tags": []
          },
          "execution_count": 8
        }
      ]
    },
    {
      "cell_type": "code",
      "metadata": {
        "id": "CGhugZIhwEZf",
        "colab_type": "code",
        "colab": {}
      },
      "source": [
        "y_train_new = y_train[window-1:]\n",
        "y_test_new = y_test[window-1:]\n"
      ],
      "execution_count": 0,
      "outputs": []
    },
    {
      "cell_type": "code",
      "metadata": {
        "id": "B3-4vw34tjRv",
        "colab_type": "code",
        "colab": {}
      },
      "source": [
        ""
      ],
      "execution_count": 0,
      "outputs": []
    },
    {
      "cell_type": "code",
      "metadata": {
        "id": "AKmrtRIkQlFQ",
        "colab_type": "code",
        "colab": {}
      },
      "source": [
        "#X_train = np.array(X_train)\n",
        "#X_test = np.array(X_test)\n",
        "#X_train = X_train.reshape(X_train.shape[0], 1, X_train.shape[1])\n",
        "#X_test = X_test.reshape(X_test.shape[0], 1, X_test.shape[1])"
      ],
      "execution_count": 0,
      "outputs": []
    },
    {
      "cell_type": "code",
      "metadata": {
        "id": "G_z8CzXrQlCG",
        "colab_type": "code",
        "outputId": "8f5e680a-45d2-4300-8e41-869a7518ba27",
        "colab": {
          "base_uri": "https://localhost:8080/",
          "height": 689
        }
      },
      "source": [
        "model = Sequential()\n",
        "model.add(LSTM(11,return_sequences=True))\n",
        "model.add(LSTM(11,return_sequences=True))\n",
        "model.add(LSTM(11,return_sequences=True))\n",
        "model.add(LSTM(11))\n",
        "model.add(Dense(1))\n",
        "model.add(LeakyReLU(alpha=0.5))\n",
        "model.compile(loss='mean_squared_error', optimizer='adam')\n",
        "model.fit(X_train_new, y_train_new, epochs=20, batch_size=1, verbose=2)\n"
      ],
      "execution_count": 0,
      "outputs": [
        {
          "output_type": "stream",
          "text": [
            "Epoch 1/20\n",
            " - 144s - loss: 0.0025\n",
            "Epoch 2/20\n",
            " - 141s - loss: 9.0172e-04\n",
            "Epoch 3/20\n",
            " - 143s - loss: 6.4994e-04\n",
            "Epoch 4/20\n",
            " - 141s - loss: 4.3621e-04\n",
            "Epoch 5/20\n",
            " - 141s - loss: 3.0730e-04\n",
            " - 140s - loss: 2.1492e-04\n",
            "Epoch 7/20\n",
            " - 140s - loss: 1.3103e-04\n",
            "Epoch 8/20\n",
            " - 140s - loss: 9.7928e-05\n",
            "Epoch 9/20\n",
            " - 141s - loss: 7.9855e-05\n",
            "Epoch 10/20\n",
            " - 137s - loss: 6.9312e-05\n",
            "Epoch 11/20\n",
            " - 138s - loss: 6.2749e-05\n",
            "Epoch 12/20\n",
            " - 136s - loss: 5.8412e-05\n",
            "Epoch 13/20\n",
            " - 141s - loss: 6.0071e-05\n",
            "Epoch 14/20\n",
            " - 144s - loss: 4.7042e-05\n",
            "Epoch 15/20\n",
            " - 148s - loss: 4.4719e-05\n",
            "Epoch 16/20\n",
            " - 144s - loss: 3.6611e-05\n",
            "Epoch 17/20\n",
            " - 145s - loss: 4.1736e-05\n",
            "Epoch 18/20\n",
            " - 143s - loss: 4.0164e-05\n",
            "Epoch 19/20\n",
            " - 145s - loss: 4.3991e-05\n",
            "Epoch 20/20\n",
            " - 138s - loss: 4.1106e-05\n"
          ],
          "name": "stdout"
        },
        {
          "output_type": "execute_result",
          "data": {
            "text/plain": [
              "<keras.callbacks.callbacks.History at 0x7f5958947518>"
            ]
          },
          "metadata": {
            "tags": []
          },
          "execution_count": 11
        }
      ]
    },
    {
      "cell_type": "code",
      "metadata": {
        "id": "1ijTSTN-Qk8Y",
        "colab_type": "code",
        "colab": {}
      },
      "source": [
        "pred = model.predict(X_test_new)"
      ],
      "execution_count": 0,
      "outputs": []
    },
    {
      "cell_type": "code",
      "metadata": {
        "id": "4eQ_dIK7Q2qr",
        "colab_type": "code",
        "outputId": "65ab19a4-3171-4c1c-a8e9-274dbe684f65",
        "colab": {
          "base_uri": "https://localhost:8080/",
          "height": 34
        }
      },
      "source": [
        "err = math.sqrt(mean_squared_error(y_test_new, pred))\n",
        "print('Root mean square error is:',err)\n",
        "#tanh - 0.027637817236385743\n",
        "#sigmoid - 0.2483122605281565\n",
        "#relu - 0.024992621660730907\n",
        "#no_function - 0.02525093890594901\n",
        "#Leaky_relu - 0.0237734796805905"
      ],
      "execution_count": 0,
      "outputs": [
        {
          "output_type": "stream",
          "text": [
            "Root mean square error is: 0.012733720937963468\n"
          ],
          "name": "stdout"
        }
      ]
    },
    {
      "cell_type": "code",
      "metadata": {
        "id": "QtUqiZS3vuQz",
        "colab_type": "code",
        "colab": {}
      },
      "source": [
        "#pred\n",
        "#y_test_new"
      ],
      "execution_count": 0,
      "outputs": []
    },
    {
      "cell_type": "code",
      "metadata": {
        "id": "fRcH8SDdMAcy",
        "colab_type": "code",
        "colab": {}
      },
      "source": [
        "#y_test\n",
        "#pred"
      ],
      "execution_count": 0,
      "outputs": []
    },
    {
      "cell_type": "code",
      "metadata": {
        "id": "PZuExjiNeUJJ",
        "colab_type": "code",
        "colab": {}
      },
      "source": [
        "resc_y_test_new = scy.inverse_transform(y_test_new)\n",
        "resc_pred = scy.inverse_transform(pred)"
      ],
      "execution_count": 0,
      "outputs": []
    },
    {
      "cell_type": "code",
      "metadata": {
        "id": "OFKFONQHrDKG",
        "colab_type": "code",
        "colab": {}
      },
      "source": [
        "#y_test_new[0:100]\n",
        "date_list = list(df['Date'])[4800 + window - 1:]"
      ],
      "execution_count": 0,
      "outputs": []
    },
    {
      "cell_type": "code",
      "metadata": {
        "id": "bNv0XfRCENa9",
        "colab_type": "code",
        "colab": {}
      },
      "source": [
        "result_table = pd.DataFrame({'Date':date_list[0:90],'S&P500 Original':list(resc_y_test_new.reshape(1,-1)[0][0:90]),'Prediction':resc_pred.reshape(1,-1)[0][0:90]})"
      ],
      "execution_count": 0,
      "outputs": []
    },
    {
      "cell_type": "code",
      "metadata": {
        "id": "-hYHEaK4azNM",
        "colab_type": "code",
        "outputId": "dab86703-5746-4964-f2a6-869ced65d339",
        "colab": {
          "base_uri": "https://localhost:8080/",
          "height": 639
        }
      },
      "source": [
        "result_table.head(20)"
      ],
      "execution_count": 0,
      "outputs": [
        {
          "output_type": "execute_result",
          "data": {
            "text/html": [
              "<div>\n",
              "<style scoped>\n",
              "    .dataframe tbody tr th:only-of-type {\n",
              "        vertical-align: middle;\n",
              "    }\n",
              "\n",
              "    .dataframe tbody tr th {\n",
              "        vertical-align: top;\n",
              "    }\n",
              "\n",
              "    .dataframe thead th {\n",
              "        text-align: right;\n",
              "    }\n",
              "</style>\n",
              "<table border=\"1\" class=\"dataframe\">\n",
              "  <thead>\n",
              "    <tr style=\"text-align: right;\">\n",
              "      <th></th>\n",
              "      <th>Date</th>\n",
              "      <th>S&amp;P500 Original</th>\n",
              "      <th>Prediction</th>\n",
              "    </tr>\n",
              "  </thead>\n",
              "  <tbody>\n",
              "    <tr>\n",
              "      <th>0</th>\n",
              "      <td>3/23/2019</td>\n",
              "      <td>2800.71</td>\n",
              "      <td>2805.226562</td>\n",
              "    </tr>\n",
              "    <tr>\n",
              "      <th>1</th>\n",
              "      <td>3/24/2019</td>\n",
              "      <td>2800.71</td>\n",
              "      <td>2802.509277</td>\n",
              "    </tr>\n",
              "    <tr>\n",
              "      <th>2</th>\n",
              "      <td>3/25/2019</td>\n",
              "      <td>2798.36</td>\n",
              "      <td>2800.733154</td>\n",
              "    </tr>\n",
              "    <tr>\n",
              "      <th>3</th>\n",
              "      <td>3/26/2019</td>\n",
              "      <td>2818.46</td>\n",
              "      <td>2817.594238</td>\n",
              "    </tr>\n",
              "    <tr>\n",
              "      <th>4</th>\n",
              "      <td>3/27/2019</td>\n",
              "      <td>2805.37</td>\n",
              "      <td>2808.123779</td>\n",
              "    </tr>\n",
              "    <tr>\n",
              "      <th>5</th>\n",
              "      <td>3/28/2019</td>\n",
              "      <td>2815.44</td>\n",
              "      <td>2816.443359</td>\n",
              "    </tr>\n",
              "    <tr>\n",
              "      <th>6</th>\n",
              "      <td>3/29/2019</td>\n",
              "      <td>2834.40</td>\n",
              "      <td>2833.429443</td>\n",
              "    </tr>\n",
              "    <tr>\n",
              "      <th>7</th>\n",
              "      <td>3/30/2019</td>\n",
              "      <td>2834.40</td>\n",
              "      <td>2835.596191</td>\n",
              "    </tr>\n",
              "    <tr>\n",
              "      <th>8</th>\n",
              "      <td>3/31/2019</td>\n",
              "      <td>2834.40</td>\n",
              "      <td>2847.581787</td>\n",
              "    </tr>\n",
              "    <tr>\n",
              "      <th>9</th>\n",
              "      <td>4/1/2019</td>\n",
              "      <td>2867.19</td>\n",
              "      <td>2871.958984</td>\n",
              "    </tr>\n",
              "    <tr>\n",
              "      <th>10</th>\n",
              "      <td>4/2/2019</td>\n",
              "      <td>2867.24</td>\n",
              "      <td>2874.057373</td>\n",
              "    </tr>\n",
              "    <tr>\n",
              "      <th>11</th>\n",
              "      <td>4/3/2019</td>\n",
              "      <td>2873.40</td>\n",
              "      <td>2878.421387</td>\n",
              "    </tr>\n",
              "    <tr>\n",
              "      <th>12</th>\n",
              "      <td>4/4/2019</td>\n",
              "      <td>2879.39</td>\n",
              "      <td>2882.572998</td>\n",
              "    </tr>\n",
              "    <tr>\n",
              "      <th>13</th>\n",
              "      <td>4/5/2019</td>\n",
              "      <td>2892.74</td>\n",
              "      <td>2894.246582</td>\n",
              "    </tr>\n",
              "    <tr>\n",
              "      <th>14</th>\n",
              "      <td>4/6/2019</td>\n",
              "      <td>2892.74</td>\n",
              "      <td>2895.777832</td>\n",
              "    </tr>\n",
              "    <tr>\n",
              "      <th>15</th>\n",
              "      <td>4/7/2019</td>\n",
              "      <td>2892.74</td>\n",
              "      <td>2896.579834</td>\n",
              "    </tr>\n",
              "    <tr>\n",
              "      <th>16</th>\n",
              "      <td>4/8/2019</td>\n",
              "      <td>2895.77</td>\n",
              "      <td>2899.573730</td>\n",
              "    </tr>\n",
              "    <tr>\n",
              "      <th>17</th>\n",
              "      <td>4/9/2019</td>\n",
              "      <td>2878.20</td>\n",
              "      <td>2886.153320</td>\n",
              "    </tr>\n",
              "    <tr>\n",
              "      <th>18</th>\n",
              "      <td>4/10/2019</td>\n",
              "      <td>2888.21</td>\n",
              "      <td>2892.153564</td>\n",
              "    </tr>\n",
              "    <tr>\n",
              "      <th>19</th>\n",
              "      <td>4/11/2019</td>\n",
              "      <td>2888.32</td>\n",
              "      <td>2891.712402</td>\n",
              "    </tr>\n",
              "  </tbody>\n",
              "</table>\n",
              "</div>"
            ],
            "text/plain": [
              "         Date  S&P500 Original   Prediction\n",
              "0   3/23/2019          2800.71  2805.226562\n",
              "1   3/24/2019          2800.71  2802.509277\n",
              "2   3/25/2019          2798.36  2800.733154\n",
              "3   3/26/2019          2818.46  2817.594238\n",
              "4   3/27/2019          2805.37  2808.123779\n",
              "5   3/28/2019          2815.44  2816.443359\n",
              "6   3/29/2019          2834.40  2833.429443\n",
              "7   3/30/2019          2834.40  2835.596191\n",
              "8   3/31/2019          2834.40  2847.581787\n",
              "9    4/1/2019          2867.19  2871.958984\n",
              "10   4/2/2019          2867.24  2874.057373\n",
              "11   4/3/2019          2873.40  2878.421387\n",
              "12   4/4/2019          2879.39  2882.572998\n",
              "13   4/5/2019          2892.74  2894.246582\n",
              "14   4/6/2019          2892.74  2895.777832\n",
              "15   4/7/2019          2892.74  2896.579834\n",
              "16   4/8/2019          2895.77  2899.573730\n",
              "17   4/9/2019          2878.20  2886.153320\n",
              "18  4/10/2019          2888.21  2892.153564\n",
              "19  4/11/2019          2888.32  2891.712402"
            ]
          },
          "metadata": {
            "tags": []
          },
          "execution_count": 19
        }
      ]
    },
    {
      "cell_type": "code",
      "metadata": {
        "id": "4n4lOholQ4Bj",
        "colab_type": "code",
        "outputId": "5740bb4f-ee50-4a5f-dab7-4d77d798aa82",
        "colab": {
          "base_uri": "https://localhost:8080/",
          "height": 361
        }
      },
      "source": [
        "plt.figure(figsize=(20,5))\n",
        "plt.plot(resc_y_test_new[0:90])\n",
        "plt.plot(resc_pred[0:90])\n",
        "plt.legend(labels = ['Original','Predictions'])\n",
        "plt.xticks(ticks = np.arange(90),labels = date_list[0:90],rotation = 'vertical')\n",
        "plt.show()\n",
        "#plt.savefig('first100.png')"
      ],
      "execution_count": 0,
      "outputs": [
        {
          "output_type": "display_data",
          "data": {
            "image/png": "[encoded data removed]",
            "text/plain": [
              "<Figure size 1440x360 with 1 Axes>"
            ]
          },
          "metadata": {
            "tags": [],
            "needs_background": "light"
          }
        }
      ]
    },
    {
      "cell_type": "code",
      "metadata": {
        "id": "PbGwUlqwQ6TL",
        "colab_type": "code",
        "colab": {}
      },
      "source": [
        "# plt.figure(figsize=(24,8))\n",
        "# plt.plot(resc_y_test_new[0:500])\n",
        "# plt.plot(resc_pred[0:500])\n",
        "# plt.legend(labels = ['Original','Predictions'])\n",
        "# plt.show()\n",
        "# #plt.savefig('first100.png')\n"
      ],
      "execution_count": 0,
      "outputs": []
    },
    {
      "cell_type": "code",
      "metadata": {
        "id": "Oxub6m7Rcs3b",
        "colab_type": "code",
        "colab": {}
      },
      "source": [
        "#import data and packages\n",
        "\n",
        "#Create windowed data i.e number of days in a window\n",
        "#e.g For window = 30. Predict the 30 outcome using first 30 rows.\n",
        "\n",
        "#Run LSTM model on training data\n",
        "#4 Hidden Layers with 11 units each\n",
        "#Used Leaky Relu activation function with alpha=0.5(negative slope)\n",
        "\n",
        "#Plot graph of forecast of actual test value vs the prediction value\n"
      ],
      "execution_count": 0,
      "outputs": []
    },
    {
      "cell_type": "code",
      "metadata": {
        "id": "gqCD3cs1F568",
        "colab_type": "code",
        "colab": {}
      },
      "source": [
        ""
      ],
      "execution_count": 0,
      "outputs": []
    }
  ]
}